{
 "cells": [
  {
   "cell_type": "code",
   "execution_count": 1,
   "id": "13c1c4cf-9f7b-44f9-868d-182b05ce1f19",
   "metadata": {},
   "outputs": [
    {
     "name": "stdout",
     "output_type": "stream",
     "text": [
      "Requirement already satisfied: pandas in /Users/jessicabarker/.pyenv/versions/3.11.8/lib/python3.11/site-packages (2.2.2)\n",
      "Requirement already satisfied: lxml in /Users/jessicabarker/.pyenv/versions/3.11.8/lib/python3.11/site-packages (4.9.4)\n",
      "Requirement already satisfied: geopandas in /Users/jessicabarker/.pyenv/versions/3.11.8/lib/python3.11/site-packages (1.0.1)\n",
      "Requirement already satisfied: fiona in /Users/jessicabarker/.pyenv/versions/3.11.8/lib/python3.11/site-packages (1.9.6)\n",
      "Requirement already satisfied: numpy>=1.23.2 in /Users/jessicabarker/.pyenv/versions/3.11.8/lib/python3.11/site-packages (from pandas) (1.26.4)\n",
      "Requirement already satisfied: python-dateutil>=2.8.2 in /Users/jessicabarker/.pyenv/versions/3.11.8/lib/python3.11/site-packages (from pandas) (2.9.0.post0)\n",
      "Requirement already satisfied: pytz>=2020.1 in /Users/jessicabarker/.pyenv/versions/3.11.8/lib/python3.11/site-packages (from pandas) (2024.1)\n",
      "Requirement already satisfied: tzdata>=2022.7 in /Users/jessicabarker/.pyenv/versions/3.11.8/lib/python3.11/site-packages (from pandas) (2024.1)\n",
      "Requirement already satisfied: pyogrio>=0.7.2 in /Users/jessicabarker/.pyenv/versions/3.11.8/lib/python3.11/site-packages (from geopandas) (0.9.0)\n",
      "Requirement already satisfied: packaging in /Users/jessicabarker/.pyenv/versions/3.11.8/lib/python3.11/site-packages (from geopandas) (24.0)\n",
      "Requirement already satisfied: pyproj>=3.3.0 in /Users/jessicabarker/.pyenv/versions/3.11.8/lib/python3.11/site-packages (from geopandas) (3.6.1)\n",
      "Requirement already satisfied: shapely>=2.0.0 in /Users/jessicabarker/.pyenv/versions/3.11.8/lib/python3.11/site-packages (from geopandas) (2.0.5)\n",
      "Requirement already satisfied: attrs>=19.2.0 in /Users/jessicabarker/.pyenv/versions/3.11.8/lib/python3.11/site-packages (from fiona) (23.2.0)\n",
      "Requirement already satisfied: certifi in /Users/jessicabarker/.pyenv/versions/3.11.8/lib/python3.11/site-packages (from fiona) (2024.6.2)\n",
      "Requirement already satisfied: click~=8.0 in /Users/jessicabarker/.pyenv/versions/3.11.8/lib/python3.11/site-packages (from fiona) (8.1.7)\n",
      "Requirement already satisfied: click-plugins>=1.0 in /Users/jessicabarker/.pyenv/versions/3.11.8/lib/python3.11/site-packages (from fiona) (1.1.1)\n",
      "Requirement already satisfied: cligj>=0.5 in /Users/jessicabarker/.pyenv/versions/3.11.8/lib/python3.11/site-packages (from fiona) (0.7.2)\n",
      "Requirement already satisfied: six in /Users/jessicabarker/.pyenv/versions/3.11.8/lib/python3.11/site-packages (from fiona) (1.16.0)\n",
      "Note: you may need to restart the kernel to use updated packages.\n"
     ]
    }
   ],
   "source": [
    "pip install pandas lxml geopandas fiona"
   ]
  },
  {
   "cell_type": "code",
   "execution_count": 3,
   "id": "4cccda92-c5d1-4ab0-9e55-fb368c5e87ac",
   "metadata": {},
   "outputs": [
    {
     "name": "stdout",
     "output_type": "stream",
     "text": [
      "Shapefile has been saved to TNbikeroutesclean\n"
     ]
    }
   ],
   "source": [
    "import pandas as pd\n",
    "import geopandas as gpd\n",
    "from lxml import etree\n",
    "from zipfile import ZipFile\n",
    "import os\n",
    "import shutil\n",
    "\n",
    "# Function to parse HTML and extract key/value pairs\n",
    "def parse_html(description):\n",
    "    html = etree.HTML(description)\n",
    "    rows = html.xpath('//table//tr')\n",
    "    data = {}\n",
    "    for row in rows:\n",
    "        cells = row.xpath('./td/text()')\n",
    "        if len(cells) == 2:\n",
    "            data[cells[0].strip()] = cells[1].strip()\n",
    "    return data\n",
    "\n",
    "# Unzip KMZ to KML\n",
    "def kmz_to_kml(kmz_file, output_path):\n",
    "    with ZipFile(kmz_file, 'r') as zip_ref:\n",
    "        zip_ref.extractall(output_path)\n",
    "        kml_file = [f for f in os.listdir(output_path) if f.endswith('.kml')][0]\n",
    "        return os.path.join(output_path, kml_file)\n",
    "\n",
    "# Convert KML to GeoDataFrame and extract description\n",
    "def kml_to_gdf(kml_file):\n",
    "    gdf = gpd.read_file(kml_file, driver='KML')\n",
    "    gdf['attributes'] = gdf['Description'].apply(parse_html)\n",
    "    for key in set.union(*[set(d.keys()) for d in gdf['attributes'] if isinstance(d, dict)]):\n",
    "        gdf[key] = gdf['attributes'].apply(lambda d: d.get(key, None))\n",
    "    return gdf.drop(columns=['Description', 'attributes'])\n",
    "\n",
    "# Main conversion function\n",
    "def convert_kmz_to_shp(kmz_file, shapefile_path):\n",
    "    temp_dir = 'temp_kml'\n",
    "    os.makedirs(temp_dir, exist_ok=True)\n",
    "    \n",
    "    try:\n",
    "        # Convert KMZ to KML\n",
    "        kml_file = kmz_to_kml(kmz_file, temp_dir)\n",
    "        # Convert KML to GeoDataFrame\n",
    "        gdf = kml_to_gdf(kml_file)\n",
    "        # Save to Shapefile\n",
    "        gdf.to_file(shapefile_path, driver='ESRI Shapefile')\n",
    "        print(f\"Shapefile has been saved to {shapefile_path}\")\n",
    "    finally:\n",
    "        # Cleanup temporary files\n",
    "        shutil.rmtree(temp_dir)\n",
    "\n",
    "# Example usage\n",
    "kmz_path = 'BLOS_BlueARedF.kmz'\n",
    "output_shp_path = 'TNbikeroutesclean'\n",
    "convert_kmz_to_shp(kmz_path, output_shp_path)"
   ]
  }
 ],
 "metadata": {
  "kernelspec": {
   "display_name": "Python 3 (ipykernel)",
   "language": "python",
   "name": "python3"
  },
  "language_info": {
   "codemirror_mode": {
    "name": "ipython",
    "version": 3
   },
   "file_extension": ".py",
   "mimetype": "text/x-python",
   "name": "python",
   "nbconvert_exporter": "python",
   "pygments_lexer": "ipython3",
   "version": "3.11.8"
  }
 },
 "nbformat": 4,
 "nbformat_minor": 5
}
